{
 "cells": [
  {
   "cell_type": "code",
   "execution_count": 1,
   "metadata": {
    "button": false,
    "collapsed": true,
    "deletable": true,
    "new_sheet": false,
    "run_control": {
     "read_only": false
    }
   },
   "outputs": [],
   "source": [
    "#File for figure 4 and 5, can run all code for figures 4 and 5.\n",
    "\n",
    "import numpy as np\n",
    "import matplotlib.pyplot as plt\n",
    "import matplotlib.image as mpimg\n",
    "from scipy import io\n",
    "import scipy.io as sio\n",
    "import pandas as pd\n",
    "import os"
   ]
  },
  {
   "cell_type": "code",
   "execution_count": 2,
   "metadata": {
    "button": false,
    "collapsed": false,
    "deletable": true,
    "new_sheet": false,
    "run_control": {
     "read_only": false
    }
   },
   "outputs": [
    {
     "name": "stdout",
     "output_type": "stream",
     "text": [
      "Simulation folder path?./COPASI_simulations/Li_2012_modelling/frequency_scan_fig6b/scan1D_freq_20.txt\n"
     ]
    }
   ],
   "source": [
    "#Write the path to the txt folder to be analysed\n",
    "folderpath= input(\"Simulation folder path?\")"
   ]
  },
  {
   "cell_type": "code",
   "execution_count": 3,
   "metadata": {
    "button": false,
    "collapsed": false,
    "deletable": true,
    "new_sheet": false,
    "run_control": {
     "read_only": false
    }
   },
   "outputs": [
    {
     "name": "stdout",
     "output_type": "stream",
     "text": [
      "Index(['Values[spikeFrequency].InitialValue', 'Time', 'Values[AMPAR_bar]',\n",
      "       'Values[CaMKII_active_ratio]', 'Values[CaMKII_active_total]',\n",
      "       'Values[k_AMPAR_phsophorylation]', 'Values[k_AMPARp_dephosphorylation]',\n",
      "       'Values[PKA_bar]', 'Values[PP1a_bar]', 'Values[PP1a_total]',\n",
      "       'Values[PP2B_bar]', '[AMPAR]', '[CaMKIIp]', '[CaMKIIp_PP1a]', '[Ca]',\n",
      "       '[Dp]'],\n",
      "      dtype='object')\n"
     ]
    },
    {
     "data": {
      "text/html": [
       "<div>\n",
       "<style scoped>\n",
       "    .dataframe tbody tr th:only-of-type {\n",
       "        vertical-align: middle;\n",
       "    }\n",
       "\n",
       "    .dataframe tbody tr th {\n",
       "        vertical-align: top;\n",
       "    }\n",
       "\n",
       "    .dataframe thead th {\n",
       "        text-align: right;\n",
       "    }\n",
       "</style>\n",
       "<table border=\"1\" class=\"dataframe\">\n",
       "  <thead>\n",
       "    <tr style=\"text-align: right;\">\n",
       "      <th></th>\n",
       "      <th>Values[spikeFrequency].InitialValue</th>\n",
       "      <th>Time</th>\n",
       "      <th>Values[AMPAR_bar]</th>\n",
       "      <th>Values[CaMKII_active_ratio]</th>\n",
       "      <th>Values[CaMKII_active_total]</th>\n",
       "      <th>Values[k_AMPAR_phsophorylation]</th>\n",
       "      <th>Values[k_AMPARp_dephosphorylation]</th>\n",
       "      <th>Values[PKA_bar]</th>\n",
       "      <th>Values[PP1a_bar]</th>\n",
       "      <th>Values[PP1a_total]</th>\n",
       "      <th>Values[PP2B_bar]</th>\n",
       "      <th>[AMPAR]</th>\n",
       "      <th>[CaMKIIp]</th>\n",
       "      <th>[CaMKIIp_PP1a]</th>\n",
       "      <th>[Ca]</th>\n",
       "      <th>[Dp]</th>\n",
       "    </tr>\n",
       "  </thead>\n",
       "  <tbody>\n",
       "    <tr>\n",
       "      <td>0</td>\n",
       "      <td>0.1</td>\n",
       "      <td>800.000</td>\n",
       "      <td>0.175631</td>\n",
       "      <td>0.033852</td>\n",
       "      <td>0.000002</td>\n",
       "      <td>0.012968</td>\n",
       "      <td>0.060866</td>\n",
       "      <td>0.01</td>\n",
       "      <td>0.199263</td>\n",
       "      <td>3.985260e-07</td>\n",
       "      <td>0.035107</td>\n",
       "      <td>0.000001</td>\n",
       "      <td>7.201100e-11</td>\n",
       "      <td>3.195290e-11</td>\n",
       "      <td>1.010100e-08</td>\n",
       "      <td>4.331020e-07</td>\n",
       "    </tr>\n",
       "    <tr>\n",
       "      <td>1</td>\n",
       "      <td>0.1</td>\n",
       "      <td>800.001</td>\n",
       "      <td>0.175631</td>\n",
       "      <td>0.033853</td>\n",
       "      <td>0.000002</td>\n",
       "      <td>0.012968</td>\n",
       "      <td>0.060866</td>\n",
       "      <td>0.01</td>\n",
       "      <td>0.199263</td>\n",
       "      <td>3.985260e-07</td>\n",
       "      <td>0.035107</td>\n",
       "      <td>0.000001</td>\n",
       "      <td>7.201100e-11</td>\n",
       "      <td>3.195290e-11</td>\n",
       "      <td>1.622130e-07</td>\n",
       "      <td>4.331020e-07</td>\n",
       "    </tr>\n",
       "    <tr>\n",
       "      <td>2</td>\n",
       "      <td>0.1</td>\n",
       "      <td>800.002</td>\n",
       "      <td>0.175631</td>\n",
       "      <td>0.033853</td>\n",
       "      <td>0.000002</td>\n",
       "      <td>0.012968</td>\n",
       "      <td>0.060866</td>\n",
       "      <td>0.01</td>\n",
       "      <td>0.199263</td>\n",
       "      <td>3.985260e-07</td>\n",
       "      <td>0.035108</td>\n",
       "      <td>0.000001</td>\n",
       "      <td>7.201090e-11</td>\n",
       "      <td>3.195290e-11</td>\n",
       "      <td>2.383200e-07</td>\n",
       "      <td>4.331020e-07</td>\n",
       "    </tr>\n",
       "    <tr>\n",
       "      <td>3</td>\n",
       "      <td>0.1</td>\n",
       "      <td>800.003</td>\n",
       "      <td>0.175631</td>\n",
       "      <td>0.033855</td>\n",
       "      <td>0.000002</td>\n",
       "      <td>0.012969</td>\n",
       "      <td>0.060866</td>\n",
       "      <td>0.01</td>\n",
       "      <td>0.199263</td>\n",
       "      <td>3.985260e-07</td>\n",
       "      <td>0.035110</td>\n",
       "      <td>0.000001</td>\n",
       "      <td>7.201080e-11</td>\n",
       "      <td>3.195290e-11</td>\n",
       "      <td>3.149810e-07</td>\n",
       "      <td>4.331020e-07</td>\n",
       "    </tr>\n",
       "    <tr>\n",
       "      <td>4</td>\n",
       "      <td>0.1</td>\n",
       "      <td>800.004</td>\n",
       "      <td>0.175631</td>\n",
       "      <td>0.033858</td>\n",
       "      <td>0.000002</td>\n",
       "      <td>0.012970</td>\n",
       "      <td>0.060866</td>\n",
       "      <td>0.01</td>\n",
       "      <td>0.199263</td>\n",
       "      <td>3.985260e-07</td>\n",
       "      <td>0.035114</td>\n",
       "      <td>0.000001</td>\n",
       "      <td>7.201060e-11</td>\n",
       "      <td>3.195290e-11</td>\n",
       "      <td>3.919940e-07</td>\n",
       "      <td>4.331020e-07</td>\n",
       "    </tr>\n",
       "    <tr>\n",
       "      <td>...</td>\n",
       "      <td>...</td>\n",
       "      <td>...</td>\n",
       "      <td>...</td>\n",
       "      <td>...</td>\n",
       "      <td>...</td>\n",
       "      <td>...</td>\n",
       "      <td>...</td>\n",
       "      <td>...</td>\n",
       "      <td>...</td>\n",
       "      <td>...</td>\n",
       "      <td>...</td>\n",
       "      <td>...</td>\n",
       "      <td>...</td>\n",
       "      <td>...</td>\n",
       "      <td>...</td>\n",
       "      <td>...</td>\n",
       "    </tr>\n",
       "    <tr>\n",
       "      <td>2520016</td>\n",
       "      <td>200.0</td>\n",
       "      <td>919.996</td>\n",
       "      <td>0.123404</td>\n",
       "      <td>0.042302</td>\n",
       "      <td>0.000003</td>\n",
       "      <td>0.016189</td>\n",
       "      <td>0.119552</td>\n",
       "      <td>0.01</td>\n",
       "      <td>0.376576</td>\n",
       "      <td>7.531530e-07</td>\n",
       "      <td>0.038649</td>\n",
       "      <td>0.000001</td>\n",
       "      <td>4.059660e-11</td>\n",
       "      <td>3.421390e-11</td>\n",
       "      <td>1.011640e-08</td>\n",
       "      <td>1.812770e-07</td>\n",
       "    </tr>\n",
       "    <tr>\n",
       "      <td>2520017</td>\n",
       "      <td>200.0</td>\n",
       "      <td>919.997</td>\n",
       "      <td>0.123404</td>\n",
       "      <td>0.042302</td>\n",
       "      <td>0.000003</td>\n",
       "      <td>0.016189</td>\n",
       "      <td>0.119551</td>\n",
       "      <td>0.01</td>\n",
       "      <td>0.376574</td>\n",
       "      <td>7.531470e-07</td>\n",
       "      <td>0.038649</td>\n",
       "      <td>0.000001</td>\n",
       "      <td>4.059600e-11</td>\n",
       "      <td>3.421310e-11</td>\n",
       "      <td>1.011630e-08</td>\n",
       "      <td>1.812790e-07</td>\n",
       "    </tr>\n",
       "    <tr>\n",
       "      <td>2520018</td>\n",
       "      <td>200.0</td>\n",
       "      <td>919.998</td>\n",
       "      <td>0.123403</td>\n",
       "      <td>0.042302</td>\n",
       "      <td>0.000003</td>\n",
       "      <td>0.016189</td>\n",
       "      <td>0.119551</td>\n",
       "      <td>0.01</td>\n",
       "      <td>0.376571</td>\n",
       "      <td>7.531410e-07</td>\n",
       "      <td>0.038648</td>\n",
       "      <td>0.000001</td>\n",
       "      <td>4.059530e-11</td>\n",
       "      <td>3.421230e-11</td>\n",
       "      <td>1.011630e-08</td>\n",
       "      <td>1.812810e-07</td>\n",
       "    </tr>\n",
       "    <tr>\n",
       "      <td>2520019</td>\n",
       "      <td>200.0</td>\n",
       "      <td>919.999</td>\n",
       "      <td>0.123403</td>\n",
       "      <td>0.042301</td>\n",
       "      <td>0.000003</td>\n",
       "      <td>0.016189</td>\n",
       "      <td>0.119550</td>\n",
       "      <td>0.01</td>\n",
       "      <td>0.376568</td>\n",
       "      <td>7.531350e-07</td>\n",
       "      <td>0.038648</td>\n",
       "      <td>0.000001</td>\n",
       "      <td>4.059470e-11</td>\n",
       "      <td>3.421160e-11</td>\n",
       "      <td>1.011630e-08</td>\n",
       "      <td>1.812830e-07</td>\n",
       "    </tr>\n",
       "    <tr>\n",
       "      <td>2520020</td>\n",
       "      <td>200.0</td>\n",
       "      <td>920.000</td>\n",
       "      <td>0.123402</td>\n",
       "      <td>0.042301</td>\n",
       "      <td>0.000003</td>\n",
       "      <td>0.016188</td>\n",
       "      <td>0.119549</td>\n",
       "      <td>0.01</td>\n",
       "      <td>0.376565</td>\n",
       "      <td>7.531290e-07</td>\n",
       "      <td>0.038648</td>\n",
       "      <td>0.000001</td>\n",
       "      <td>4.059400e-11</td>\n",
       "      <td>3.421080e-11</td>\n",
       "      <td>1.011630e-08</td>\n",
       "      <td>1.812850e-07</td>\n",
       "    </tr>\n",
       "  </tbody>\n",
       "</table>\n",
       "<p>2520021 rows × 16 columns</p>\n",
       "</div>"
      ],
      "text/plain": [
       "         Values[spikeFrequency].InitialValue     Time  Values[AMPAR_bar]  \\\n",
       "0                                        0.1  800.000           0.175631   \n",
       "1                                        0.1  800.001           0.175631   \n",
       "2                                        0.1  800.002           0.175631   \n",
       "3                                        0.1  800.003           0.175631   \n",
       "4                                        0.1  800.004           0.175631   \n",
       "...                                      ...      ...                ...   \n",
       "2520016                                200.0  919.996           0.123404   \n",
       "2520017                                200.0  919.997           0.123404   \n",
       "2520018                                200.0  919.998           0.123403   \n",
       "2520019                                200.0  919.999           0.123403   \n",
       "2520020                                200.0  920.000           0.123402   \n",
       "\n",
       "         Values[CaMKII_active_ratio]  Values[CaMKII_active_total]  \\\n",
       "0                           0.033852                     0.000002   \n",
       "1                           0.033853                     0.000002   \n",
       "2                           0.033853                     0.000002   \n",
       "3                           0.033855                     0.000002   \n",
       "4                           0.033858                     0.000002   \n",
       "...                              ...                          ...   \n",
       "2520016                     0.042302                     0.000003   \n",
       "2520017                     0.042302                     0.000003   \n",
       "2520018                     0.042302                     0.000003   \n",
       "2520019                     0.042301                     0.000003   \n",
       "2520020                     0.042301                     0.000003   \n",
       "\n",
       "         Values[k_AMPAR_phsophorylation]  Values[k_AMPARp_dephosphorylation]  \\\n",
       "0                               0.012968                            0.060866   \n",
       "1                               0.012968                            0.060866   \n",
       "2                               0.012968                            0.060866   \n",
       "3                               0.012969                            0.060866   \n",
       "4                               0.012970                            0.060866   \n",
       "...                                  ...                                 ...   \n",
       "2520016                         0.016189                            0.119552   \n",
       "2520017                         0.016189                            0.119551   \n",
       "2520018                         0.016189                            0.119551   \n",
       "2520019                         0.016189                            0.119550   \n",
       "2520020                         0.016188                            0.119549   \n",
       "\n",
       "         Values[PKA_bar]  Values[PP1a_bar]  Values[PP1a_total]  \\\n",
       "0                   0.01          0.199263        3.985260e-07   \n",
       "1                   0.01          0.199263        3.985260e-07   \n",
       "2                   0.01          0.199263        3.985260e-07   \n",
       "3                   0.01          0.199263        3.985260e-07   \n",
       "4                   0.01          0.199263        3.985260e-07   \n",
       "...                  ...               ...                 ...   \n",
       "2520016             0.01          0.376576        7.531530e-07   \n",
       "2520017             0.01          0.376574        7.531470e-07   \n",
       "2520018             0.01          0.376571        7.531410e-07   \n",
       "2520019             0.01          0.376568        7.531350e-07   \n",
       "2520020             0.01          0.376565        7.531290e-07   \n",
       "\n",
       "         Values[PP2B_bar]   [AMPAR]     [CaMKIIp]  [CaMKIIp_PP1a]  \\\n",
       "0                0.035107  0.000001  7.201100e-11    3.195290e-11   \n",
       "1                0.035107  0.000001  7.201100e-11    3.195290e-11   \n",
       "2                0.035108  0.000001  7.201090e-11    3.195290e-11   \n",
       "3                0.035110  0.000001  7.201080e-11    3.195290e-11   \n",
       "4                0.035114  0.000001  7.201060e-11    3.195290e-11   \n",
       "...                   ...       ...           ...             ...   \n",
       "2520016          0.038649  0.000001  4.059660e-11    3.421390e-11   \n",
       "2520017          0.038649  0.000001  4.059600e-11    3.421310e-11   \n",
       "2520018          0.038648  0.000001  4.059530e-11    3.421230e-11   \n",
       "2520019          0.038648  0.000001  4.059470e-11    3.421160e-11   \n",
       "2520020          0.038648  0.000001  4.059400e-11    3.421080e-11   \n",
       "\n",
       "                 [Ca]          [Dp]  \n",
       "0        1.010100e-08  4.331020e-07  \n",
       "1        1.622130e-07  4.331020e-07  \n",
       "2        2.383200e-07  4.331020e-07  \n",
       "3        3.149810e-07  4.331020e-07  \n",
       "4        3.919940e-07  4.331020e-07  \n",
       "...               ...           ...  \n",
       "2520016  1.011640e-08  1.812770e-07  \n",
       "2520017  1.011630e-08  1.812790e-07  \n",
       "2520018  1.011630e-08  1.812810e-07  \n",
       "2520019  1.011630e-08  1.812830e-07  \n",
       "2520020  1.011630e-08  1.812850e-07  \n",
       "\n",
       "[2520021 rows x 16 columns]"
      ]
     },
     "execution_count": 3,
     "metadata": {},
     "output_type": "execute_result"
    }
   ],
   "source": [
    "#Downloads the data from COPASI, into a table\n",
    "df = pd.read_csv(folderpath, sep='\\s+', index_col = False)\n",
    "\n",
    "print(df.columns)\n",
    "\n",
    "df"
   ]
  },
  {
   "cell_type": "code",
   "execution_count": 4,
   "metadata": {
    "button": false,
    "collapsed": false,
    "deletable": true,
    "new_sheet": false,
    "run_control": {
     "read_only": false
    }
   },
   "outputs": [
    {
     "name": "stdout",
     "output_type": "stream",
     "text": [
      "120000\n",
      "120.0\n",
      "0.00100000000009004\n"
     ]
    }
   ],
   "source": [
    "#Select given columns to analyse, in this case activated CaMKII, calcineurin and PP1\n",
    "#All values are normalized with respect to total amounts (bar value)\n",
    "CaMKII_active_values = df['Values[CaMKII_active_ratio]'] \n",
    "PP2B_active_values = df['Values[PP2B_bar]'] \n",
    "PP1_active_values = df['Values[PP1a_bar]'] \n",
    "AMPA_bar = df[\"Values[AMPAR_bar]\"]\n",
    "time = df[\"Time\"]\n",
    "\n",
    "#Find indices of change in frequency values\n",
    "freq = df[\"Values[spikeFrequency].InitialValue\"]\n",
    "unique_f, indices_f = np.unique(freq, return_index = True)\n",
    "\n",
    "#Compute time constants\n",
    "stepsize = indices_f[1]-1\n",
    "simulation_time = time[indices_f[1]-1]-time[0]\n",
    "dt = time[1] - time[0]\n",
    "\n",
    "print(stepsize)\n",
    "print(simulation_time)\n",
    "print(dt)\n",
    "\n",
    "#catalytic constants, all defined in seconds^-1 as in Li et al., (2012)\n",
    "kk_GluR1 = 0.5\n",
    "k_pp2b_GluR1 = 2.0\n",
    "k_pp1_GluR1 = 0.35"
   ]
  },
  {
   "cell_type": "code",
   "execution_count": 5,
   "metadata": {
    "button": false,
    "collapsed": true,
    "deletable": true,
    "new_sheet": false,
    "run_control": {
     "read_only": false
    }
   },
   "outputs": [],
   "source": [
    "#Computes the activated area of each species as described in the methods, using the trapezoidal rule and subtracting the baseline\n",
    "def activated_area (values, simulation_t):\n",
    "    t_values = np.linspace(0, np.int(simulation_t), num = values.size) #defines the array of t_values based on the stepsize\n",
    "    baseline = values[0]*simulation_t #substracts the baseline to calculate the activated area\n",
    "    trapezium_sum_baseline = np.trapz(values,t_values) #integrates using the composite trapezoid rule, baseline included\n",
    "  \n",
    "    if baseline > 0:\n",
    "        trapezium_sum = trapezium_sum_baseline - baseline #subtracts baseline to approximation\n",
    "        return trapezium_sum\n",
    "    else:\n",
    "        return trapezium_sum_baseline"
   ]
  },
  {
   "cell_type": "code",
   "execution_count": 6,
   "metadata": {
    "button": false,
    "collapsed": true,
    "deletable": true,
    "new_sheet": false,
    "run_control": {
     "read_only": false
    }
   },
   "outputs": [],
   "source": [
    "#Given an array of values, it computes the activated area for each frequency\n",
    "def split_frequencies(indices, values, simulation_t):\n",
    "    freq_matrix = np.reshape(np.array(values), (indices.shape[0],indices[1]), order = \"C\") #creates an empty matrix to add the values of the split array\n",
    "    activated_area_arr = np.zeros((indices.shape[0],1)) #creates an empty array to store the values of the activated area\n",
    "    for i in range(freq_matrix.shape[0]):\n",
    "        activated_area_arr[i] = activated_area(freq_matrix[i,:], simulation_t)#computes the activated area of each of the frequencies\n",
    "    return activated_area_arr"
   ]
  },
  {
   "cell_type": "code",
   "execution_count": 7,
   "metadata": {
    "button": false,
    "collapsed": true,
    "deletable": true,
    "new_sheet": false,
    "run_control": {
     "read_only": false
    }
   },
   "outputs": [],
   "source": [
    "#Given 2 phosphatases and a kinase it computes the direction and magnitude of plasticity as a function of frequency\n",
    "def LTP_LTD_ratio (phosphatase1,phosphatase2, kinase, indices, simulation_t, kp1, kp2, kk):\n",
    "    activated_phosphatase1 = split_frequencies(indices, phosphatase1, simulation_t) #generates the activated area values for phosphatase1\n",
    "    activated_phosphatase2 = split_frequencies(indices, phosphatase2, simulation_t) #generates the activated area values for the phosphatase2\n",
    "    activated_kinase = split_frequencies(indices, kinase, simulation_t) #generates the activated area values for the phosphatase\n",
    "    activity_difference = activated_kinase*kk - activated_phosphatase1*kp1 - activated_phosphatase2*kp2 #calculates the activated area difference (defined in Li et al 2012)\n",
    "    return activity_difference"
   ]
  },
  {
   "cell_type": "code",
   "execution_count": 9,
   "metadata": {
    "button": false,
    "collapsed": true,
    "deletable": true,
    "new_sheet": false,
    "run_control": {
     "read_only": false
    }
   },
   "outputs": [],
   "source": [
    "#rearranges a matrix of values based on the parameter scan value\n",
    "def split_values(indices, values):\n",
    "        values_matrix = np.reshape(np.array(values), (indices.shape[0],indices[1]), order = \"C\") #creates an empty matrix to add the values of the split array\n",
    "        return values_matrix"
   ]
  },
  {
   "cell_type": "code",
   "execution_count": 9,
   "metadata": {
    "button": false,
    "collapsed": false,
    "deletable": true,
    "new_sheet": false,
    "run_control": {
     "read_only": false
    }
   },
   "outputs": [
    {
     "data": {
      "text/plain": [
       "(2, 2520021)"
      ]
     },
     "execution_count": 9,
     "metadata": {},
     "output_type": "execute_result"
    }
   ],
   "source": [
    "A = np.matrix(PP2B_active_values)\n",
    "B = np.append(A,np.matrix(PP1_active_values), axis = 0)\n",
    "\n",
    "B.shape"
   ]
  },
  {
   "cell_type": "code",
   "execution_count": 10,
   "metadata": {
    "button": false,
    "collapsed": false,
    "deletable": true,
    "new_sheet": false,
    "run_control": {
     "read_only": false
    }
   },
   "outputs": [
    {
     "name": "stdout",
     "output_type": "stream",
     "text": [
      "LFS = 1.43008Hz\n",
      "HFS = 43.7345Hz\n",
      "LFS duration = 69.9261579771761s\n",
      "HFS duartion = 2.286524368633459s\n"
     ]
    },
    {
     "data": {
      "image/png": "[encoded data removed]",
      "text/plain": [
       "<Figure size 720x720 with 2 Axes>"
      ]
     },
     "metadata": {
      "needs_background": "light"
     },
     "output_type": "display_data"
    }
   ],
   "source": [
    "#Figure 4: activation profile of CaMKII, PP2B, PP1a and AMPARp for and arbitrary LFS (1.43 Hz) and HFS (43.73 Hz)\n",
    "\n",
    "#defines the LFS and HFS value to plot\n",
    "LFS = unique_f[7] \n",
    "HFS = unique_f[16]\n",
    "\n",
    "print(\"LFS = \"+ str(LFS)+\"Hz\")\n",
    "print(\"HFS = \"+ str(HFS)+\"Hz\")\n",
    "\n",
    "spike_number = 100 #defined specifically for this simulation file\n",
    "LFS_duration = (1/LFS)*spike_number\n",
    "HFS_duration = (1/HFS)*spike_number\n",
    "\n",
    "print(\"LFS duration = \"+ str(LFS_duration)+\"s\")\n",
    "print(\"HFS duartion = \"+ str(HFS_duration)+\"s\")\n",
    "\n",
    "PP2B = split_values(indices_f, PP2B_active_values)\n",
    "PP1a = split_values(indices_f, PP1_active_values)\n",
    "CaMKII = split_values(indices_f, CaMKII_active_values)\n",
    "AMPAR = split_values(indices_f, AMPA_bar)\n",
    "\n",
    "#activation profile of CaMKII, PP2B, PP1a and AMPARp for LFS (1.43 Hz) and HFS (43.73 Hz)\n",
    "\n",
    "fig, (ax1, ax2) = plt.subplots(2,figsize=(10,10))\n",
    "fig.tight_layout(pad=5.0)\n",
    "\n",
    "x = np.linspace(0, simulation_time, num = np.ceil(simulation_time/dt)+1) #simulation for 120 seconds with 1e-3 time step\n",
    "#LFS plot\n",
    "ax1.plot(x, PP2B[7],label=\"PP2B\")\n",
    "ax1.plot(x, PP1a[7],label=\"PP1a\")\n",
    "ax1.plot(x, CaMKII[7],label=\"CaMKII\")\n",
    "ax1.plot(x, AMPAR[7], label=\"AMPARp\")\n",
    "ax1.plot([0, LFS_duration], [1, 1], 'k-', label=\"stimulus duration\")\n",
    "fig.legend()\n",
    "ax1.set_title(\"A. LFS Stimulation\", fontweight=\"bold\")\n",
    "\n",
    "#HFS plot\n",
    "ax2.plot(x, PP2B[16])\n",
    "ax2.plot(x, PP1a[16])\n",
    "ax2.plot(x, CaMKII[16])\n",
    "ax2.plot(x, AMPAR[16])\n",
    "ax2.plot([0, HFS_duration], [1, 1], 'k-')\n",
    "ax2.set_title(\"B. HFS Stimulation\", fontweight=\"bold\")\n",
    "\n",
    "fig.legend()\n",
    "\n",
    "for ax in (ax1,ax2):\n",
    "    ax.set(xlabel='time(s)', ylabel='Species active ratio')\n"
   ]
  },
  {
   "cell_type": "code",
   "execution_count": 11,
   "metadata": {
    "button": false,
    "collapsed": false,
    "deletable": true,
    "new_sheet": false,
    "run_control": {
     "read_only": false
    },
    "scrolled": true
   },
   "outputs": [
    {
     "data": {
      "text/plain": [
       "Text(0.5, 0, 'Calcium Spike Frequency (Hz)')"
      ]
     },
     "execution_count": 11,
     "metadata": {},
     "output_type": "execute_result"
    },
    {
     "data": {
      "image/png": "[encoded data removed]",
      "text/plain": [
       "<Figure size 432x288 with 1 Axes>"
      ]
     },
     "metadata": {
      "needs_background": "light"
     },
     "output_type": "display_data"
    }
   ],
   "source": [
    "#Figure 5A: Calcineurin/CaMKII activated area, replicating figure 6a in Li et al., (2012)\n",
    "\n",
    "#computes the activated area of calcineurin and CaMKII\n",
    "AA_PP2B = split_frequencies(indices_f, PP2B_active_values, simulation_time)\n",
    "AA_PP1a = split_frequencies(indices_f, PP1_active_values, simulation_time)\n",
    "AA_CaMKII = split_frequencies(indices_f, CaMKII_active_values, simulation_time)\n",
    "\n",
    "#computes the activated area ratio\n",
    "AA_ratio = AA_PP2B/AA_CaMKII\n",
    "\n",
    "#plot in logscale\n",
    "plt.plot(np.logspace(-1, np.log10(200), num = unique_f.shape[0]), AA_ratio, \"-o\")\n",
    "plt.xscale(\"log\")\n",
    "plt.plot([0.1, 2.5e2], [1, 1], 'r-')\n",
    "plt.ylabel('PP2B/CaMKII activated area')\n",
    "plt.xlabel('Calcium Spike Frequency (Hz)')"
   ]
  },
  {
   "cell_type": "code",
   "execution_count": 15,
   "metadata": {
    "button": false,
    "collapsed": false,
    "deletable": true,
    "new_sheet": false,
    "run_control": {
     "read_only": false
    }
   },
   "outputs": [
    {
     "data": {
      "image/png": "[encoded data removed]",
      "text/plain": [
       "<Figure size 432x288 with 1 Axes>"
      ]
     },
     "metadata": {
      "needs_background": "light"
     },
     "output_type": "display_data"
    }
   ],
   "source": [
    "#Figure 5B: LTD to LTP shift based on kinase and phosphatase activation, replicating figure 6b in Li et al., (2012) \n",
    "#adding PP1a instead of subtracting it\n",
    "\n",
    "#compute the results of the ratio of LTP and LTD\n",
    "ratio_results = LTP_LTD_ratio (PP1_active_values, PP2B_active_values, CaMKII_active_values, indices_f, simulation_time, -1*k_pp1_GluR1, k_pp2b_GluR1, kk_GluR1)\n",
    "ratio_results_normalized = ratio_results - ratio_results[0] #subtract the baseline\n",
    "\n",
    "#plot in logscale\n",
    "plt.plot(np.logspace(-1, np.log10(200), num = unique_f.shape[0]), ratio_results_normalized, \"-o\")\n",
    "plt.xscale(\"log\")\n",
    "plt.plot([0.1, 2.5e2], [0, 0], 'r-')\n",
    "plt.xlabel('Calcium Spike Frequency (Hz)')\n",
    "plt.ylabel('active (CaMKII, PP1) - active (PP2B)')\n",
    "plt.show()"
   ]
  },
  {
   "cell_type": "code",
   "execution_count": 14,
   "metadata": {
    "button": false,
    "collapsed": false,
    "deletable": true,
    "new_sheet": false,
    "run_control": {
     "read_only": false
    }
   },
   "outputs": [
    {
     "data": {
      "image/png": "[encoded data removed]",
      "text/plain": [
       "<Figure size 432x288 with 1 Axes>"
      ]
     },
     "metadata": {
      "needs_background": "light"
     },
     "output_type": "display_data"
    }
   ],
   "source": [
    "#Figure 5C: LTD to LTP shift based on kinase and phosphatase activation, subtracting PP1a instead of adding it \n",
    "\n",
    "#compute the results of the ratio of LTP and LTD\n",
    "ratio_results = LTP_LTD_ratio (PP1_active_values, PP2B_active_values, CaMKII_active_values, indices_f, simulation_time, k_pp1_GluR1, k_pp2b_GluR1, kk_GluR1)\n",
    "ratio_results_normalized = ratio_results - ratio_results[0] #subtract the baseline\n",
    "\n",
    "#plot in logscale\n",
    "plt.plot(np.logspace(-1, np.log10(200), num = unique_f.shape[0]), ratio_results_normalized, \"-o\")\n",
    "plt.xscale(\"log\")\n",
    "plt.plot([0.1, 2.5e2], [0, 0], 'r-')\n",
    "plt.xlabel('Calcium Spike Frequency (Hz)')\n",
    "plt.ylabel('active CaMKII - active phosphatases (PP2B, PP1)')\n",
    "plt.show()\n"
   ]
  }
 ],
 "metadata": {
  "kernelspec": {
   "display_name": "Python 3",
   "language": "python",
   "name": "python3"
  },
  "language_info": {
   "codemirror_mode": {
    "name": "ipython",
    "version": 2
   },
   "file_extension": ".py",
   "mimetype": "text/x-python",
   "name": "python",
   "nbconvert_exporter": "python",
   "pygments_lexer": "ipython2",
   "version": "2.7.10"
  }
 },
 "nbformat": 4,
 "nbformat_minor": 2
}
