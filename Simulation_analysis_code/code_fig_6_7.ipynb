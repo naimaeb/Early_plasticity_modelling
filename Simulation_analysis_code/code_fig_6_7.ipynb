{
 "cells": [
  {
   "cell_type": "code",
   "execution_count": 11,
   "metadata": {
    "button": false,
    "collapsed": true,
    "deletable": true,
    "new_sheet": false,
    "run_control": {
     "read_only": false
    }
   },
   "outputs": [],
   "source": [
    "#Code for Figures 6 and 7\n",
    "\n",
    "import numpy as np\n",
    "import matplotlib.pyplot as plt\n",
    "from mpl_toolkits import mplot3d\n",
    "from scipy import io\n",
    "import scipy.io as sio\n",
    "import pandas as pd\n",
    "import os"
   ]
  },
  {
   "cell_type": "code",
   "execution_count": 12,
   "metadata": {
    "button": false,
    "collapsed": false,
    "deletable": true,
    "new_sheet": false,
    "run_control": {
     "read_only": false
    }
   },
   "outputs": [
    {
     "name": "stdout",
     "output_type": "stream",
     "text": [
      "Simulation folder path?./COPASI_simulations/Li_2012_modelling/AMPARp(2.0s^-1)/scan1D_freq_kDphos2.0.txt\n"
     ]
    }
   ],
   "source": [
    "#Write the path to the txt folder to be analysed \n",
    "folderpath= input(\"Simulation folder path?\")"
   ]
  },
  {
   "cell_type": "code",
   "execution_count": 13,
   "metadata": {
    "button": false,
    "collapsed": false,
    "deletable": true,
    "new_sheet": false,
    "run_control": {
     "read_only": false
    }
   },
   "outputs": [
    {
     "name": "stdout",
     "output_type": "stream",
     "text": [
      "Index(['Values[spikeFrequency].InitialValue', 'Time', 'Values[AMPAR_bar]',\n",
      "       'Values[CaMKII_active_ratio]', 'Values[CaMKII_active_total]',\n",
      "       'Values[Dp_bar]', 'Values[k_AMPAR_phsophorylation]',\n",
      "       'Values[k_AMPARp_dephosphorylation]', 'Values[PKA_bar]',\n",
      "       'Values[PP1a_bar]', 'Values[PP1a_total]', 'Values[PP2B_bar]',\n",
      "       'Values[PP2B_bound_total]', '[AMPAR]', '[CaMKIIp]', '[CaMKIIp_PP1a]',\n",
      "       '[Ca]', '[Dp]'],\n",
      "      dtype='object')\n"
     ]
    },
    {
     "data": {
      "text/html": [
       "<div>\n",
       "<style scoped>\n",
       "    .dataframe tbody tr th:only-of-type {\n",
       "        vertical-align: middle;\n",
       "    }\n",
       "\n",
       "    .dataframe tbody tr th {\n",
       "        vertical-align: top;\n",
       "    }\n",
       "\n",
       "    .dataframe thead th {\n",
       "        text-align: right;\n",
       "    }\n",
       "</style>\n",
       "<table border=\"1\" class=\"dataframe\">\n",
       "  <thead>\n",
       "    <tr style=\"text-align: right;\">\n",
       "      <th></th>\n",
       "      <th>Values[spikeFrequency].InitialValue</th>\n",
       "      <th>Time</th>\n",
       "      <th>Values[AMPAR_bar]</th>\n",
       "      <th>Values[CaMKII_active_ratio]</th>\n",
       "      <th>Values[CaMKII_active_total]</th>\n",
       "      <th>Values[Dp_bar]</th>\n",
       "      <th>Values[k_AMPAR_phsophorylation]</th>\n",
       "      <th>Values[k_AMPARp_dephosphorylation]</th>\n",
       "      <th>Values[PKA_bar]</th>\n",
       "      <th>Values[PP1a_bar]</th>\n",
       "      <th>Values[PP1a_total]</th>\n",
       "      <th>Values[PP2B_bar]</th>\n",
       "      <th>Values[PP2B_bound_total]</th>\n",
       "      <th>[AMPAR]</th>\n",
       "      <th>[CaMKIIp]</th>\n",
       "      <th>[CaMKIIp_PP1a]</th>\n",
       "      <th>[Ca]</th>\n",
       "      <th>[Dp]</th>\n",
       "    </tr>\n",
       "  </thead>\n",
       "  <tbody>\n",
       "    <tr>\n",
       "      <td>0</td>\n",
       "      <td>0.1</td>\n",
       "      <td>790.000</td>\n",
       "      <td>0.175631</td>\n",
       "      <td>0.033852</td>\n",
       "      <td>0.000002</td>\n",
       "      <td>0.693078</td>\n",
       "      <td>0.012968</td>\n",
       "      <td>0.060866</td>\n",
       "      <td>0.01</td>\n",
       "      <td>0.199263</td>\n",
       "      <td>3.985260e-07</td>\n",
       "      <td>0.035107</td>\n",
       "      <td>2.106410e-07</td>\n",
       "      <td>0.000001</td>\n",
       "      <td>7.201090e-11</td>\n",
       "      <td>3.195290e-11</td>\n",
       "      <td>1.010100e-08</td>\n",
       "      <td>4.331010e-07</td>\n",
       "    </tr>\n",
       "    <tr>\n",
       "      <td>1</td>\n",
       "      <td>0.1</td>\n",
       "      <td>790.001</td>\n",
       "      <td>0.175631</td>\n",
       "      <td>0.033852</td>\n",
       "      <td>0.000002</td>\n",
       "      <td>0.693078</td>\n",
       "      <td>0.012968</td>\n",
       "      <td>0.060866</td>\n",
       "      <td>0.01</td>\n",
       "      <td>0.199263</td>\n",
       "      <td>3.985260e-07</td>\n",
       "      <td>0.035107</td>\n",
       "      <td>2.106410e-07</td>\n",
       "      <td>0.000001</td>\n",
       "      <td>7.201090e-11</td>\n",
       "      <td>3.195290e-11</td>\n",
       "      <td>1.010100e-08</td>\n",
       "      <td>4.331010e-07</td>\n",
       "    </tr>\n",
       "    <tr>\n",
       "      <td>2</td>\n",
       "      <td>0.1</td>\n",
       "      <td>790.002</td>\n",
       "      <td>0.175631</td>\n",
       "      <td>0.033852</td>\n",
       "      <td>0.000002</td>\n",
       "      <td>0.693078</td>\n",
       "      <td>0.012968</td>\n",
       "      <td>0.060866</td>\n",
       "      <td>0.01</td>\n",
       "      <td>0.199263</td>\n",
       "      <td>3.985260e-07</td>\n",
       "      <td>0.035107</td>\n",
       "      <td>2.106410e-07</td>\n",
       "      <td>0.000001</td>\n",
       "      <td>7.201090e-11</td>\n",
       "      <td>3.195290e-11</td>\n",
       "      <td>1.010100e-08</td>\n",
       "      <td>4.331010e-07</td>\n",
       "    </tr>\n",
       "    <tr>\n",
       "      <td>3</td>\n",
       "      <td>0.1</td>\n",
       "      <td>790.003</td>\n",
       "      <td>0.175631</td>\n",
       "      <td>0.033852</td>\n",
       "      <td>0.000002</td>\n",
       "      <td>0.693078</td>\n",
       "      <td>0.012968</td>\n",
       "      <td>0.060866</td>\n",
       "      <td>0.01</td>\n",
       "      <td>0.199263</td>\n",
       "      <td>3.985260e-07</td>\n",
       "      <td>0.035107</td>\n",
       "      <td>2.106410e-07</td>\n",
       "      <td>0.000001</td>\n",
       "      <td>7.201090e-11</td>\n",
       "      <td>3.195290e-11</td>\n",
       "      <td>1.010100e-08</td>\n",
       "      <td>4.331010e-07</td>\n",
       "    </tr>\n",
       "    <tr>\n",
       "      <td>4</td>\n",
       "      <td>0.1</td>\n",
       "      <td>790.004</td>\n",
       "      <td>0.175631</td>\n",
       "      <td>0.033852</td>\n",
       "      <td>0.000002</td>\n",
       "      <td>0.693078</td>\n",
       "      <td>0.012968</td>\n",
       "      <td>0.060866</td>\n",
       "      <td>0.01</td>\n",
       "      <td>0.199263</td>\n",
       "      <td>3.985260e-07</td>\n",
       "      <td>0.035107</td>\n",
       "      <td>2.106410e-07</td>\n",
       "      <td>0.000001</td>\n",
       "      <td>7.201090e-11</td>\n",
       "      <td>3.195290e-11</td>\n",
       "      <td>1.010100e-08</td>\n",
       "      <td>4.331010e-07</td>\n",
       "    </tr>\n",
       "    <tr>\n",
       "      <td>...</td>\n",
       "      <td>...</td>\n",
       "      <td>...</td>\n",
       "      <td>...</td>\n",
       "      <td>...</td>\n",
       "      <td>...</td>\n",
       "      <td>...</td>\n",
       "      <td>...</td>\n",
       "      <td>...</td>\n",
       "      <td>...</td>\n",
       "      <td>...</td>\n",
       "      <td>...</td>\n",
       "      <td>...</td>\n",
       "      <td>...</td>\n",
       "      <td>...</td>\n",
       "      <td>...</td>\n",
       "      <td>...</td>\n",
       "      <td>...</td>\n",
       "      <td>...</td>\n",
       "    </tr>\n",
       "    <tr>\n",
       "      <td>19910006</td>\n",
       "      <td>200.0</td>\n",
       "      <td>2600.000</td>\n",
       "      <td>0.175632</td>\n",
       "      <td>0.033852</td>\n",
       "      <td>0.000002</td>\n",
       "      <td>0.693078</td>\n",
       "      <td>0.012968</td>\n",
       "      <td>0.060866</td>\n",
       "      <td>0.01</td>\n",
       "      <td>0.199263</td>\n",
       "      <td>3.985250e-07</td>\n",
       "      <td>0.035107</td>\n",
       "      <td>2.106410e-07</td>\n",
       "      <td>0.000001</td>\n",
       "      <td>7.201130e-11</td>\n",
       "      <td>3.195300e-11</td>\n",
       "      <td>1.010100e-08</td>\n",
       "      <td>4.331030e-07</td>\n",
       "    </tr>\n",
       "    <tr>\n",
       "      <td>19910007</td>\n",
       "      <td>200.0</td>\n",
       "      <td>2600.000</td>\n",
       "      <td>0.175632</td>\n",
       "      <td>0.033852</td>\n",
       "      <td>0.000002</td>\n",
       "      <td>0.693078</td>\n",
       "      <td>0.012968</td>\n",
       "      <td>0.060866</td>\n",
       "      <td>0.01</td>\n",
       "      <td>0.199263</td>\n",
       "      <td>3.985250e-07</td>\n",
       "      <td>0.035107</td>\n",
       "      <td>2.106410e-07</td>\n",
       "      <td>0.000001</td>\n",
       "      <td>7.201130e-11</td>\n",
       "      <td>3.195300e-11</td>\n",
       "      <td>1.010100e-08</td>\n",
       "      <td>4.331030e-07</td>\n",
       "    </tr>\n",
       "    <tr>\n",
       "      <td>19910008</td>\n",
       "      <td>200.0</td>\n",
       "      <td>2600.000</td>\n",
       "      <td>0.175632</td>\n",
       "      <td>0.033852</td>\n",
       "      <td>0.000002</td>\n",
       "      <td>0.693078</td>\n",
       "      <td>0.012968</td>\n",
       "      <td>0.060866</td>\n",
       "      <td>0.01</td>\n",
       "      <td>0.199263</td>\n",
       "      <td>3.985250e-07</td>\n",
       "      <td>0.035107</td>\n",
       "      <td>2.106410e-07</td>\n",
       "      <td>0.000001</td>\n",
       "      <td>7.201130e-11</td>\n",
       "      <td>3.195300e-11</td>\n",
       "      <td>1.010100e-08</td>\n",
       "      <td>4.331030e-07</td>\n",
       "    </tr>\n",
       "    <tr>\n",
       "      <td>19910009</td>\n",
       "      <td>200.0</td>\n",
       "      <td>2600.000</td>\n",
       "      <td>0.175632</td>\n",
       "      <td>0.033852</td>\n",
       "      <td>0.000002</td>\n",
       "      <td>0.693078</td>\n",
       "      <td>0.012968</td>\n",
       "      <td>0.060866</td>\n",
       "      <td>0.01</td>\n",
       "      <td>0.199263</td>\n",
       "      <td>3.985250e-07</td>\n",
       "      <td>0.035107</td>\n",
       "      <td>2.106410e-07</td>\n",
       "      <td>0.000001</td>\n",
       "      <td>7.201130e-11</td>\n",
       "      <td>3.195300e-11</td>\n",
       "      <td>1.010100e-08</td>\n",
       "      <td>4.331030e-07</td>\n",
       "    </tr>\n",
       "    <tr>\n",
       "      <td>19910010</td>\n",
       "      <td>200.0</td>\n",
       "      <td>2600.000</td>\n",
       "      <td>0.175632</td>\n",
       "      <td>0.033852</td>\n",
       "      <td>0.000002</td>\n",
       "      <td>0.693078</td>\n",
       "      <td>0.012968</td>\n",
       "      <td>0.060866</td>\n",
       "      <td>0.01</td>\n",
       "      <td>0.199263</td>\n",
       "      <td>3.985250e-07</td>\n",
       "      <td>0.035107</td>\n",
       "      <td>2.106410e-07</td>\n",
       "      <td>0.000001</td>\n",
       "      <td>7.201130e-11</td>\n",
       "      <td>3.195300e-11</td>\n",
       "      <td>1.010100e-08</td>\n",
       "      <td>4.331030e-07</td>\n",
       "    </tr>\n",
       "  </tbody>\n",
       "</table>\n",
       "<p>19910011 rows × 18 columns</p>\n",
       "</div>"
      ],
      "text/plain": [
       "          Values[spikeFrequency].InitialValue      Time  Values[AMPAR_bar]  \\\n",
       "0                                         0.1   790.000           0.175631   \n",
       "1                                         0.1   790.001           0.175631   \n",
       "2                                         0.1   790.002           0.175631   \n",
       "3                                         0.1   790.003           0.175631   \n",
       "4                                         0.1   790.004           0.175631   \n",
       "...                                       ...       ...                ...   \n",
       "19910006                                200.0  2600.000           0.175632   \n",
       "19910007                                200.0  2600.000           0.175632   \n",
       "19910008                                200.0  2600.000           0.175632   \n",
       "19910009                                200.0  2600.000           0.175632   \n",
       "19910010                                200.0  2600.000           0.175632   \n",
       "\n",
       "          Values[CaMKII_active_ratio]  Values[CaMKII_active_total]  \\\n",
       "0                            0.033852                     0.000002   \n",
       "1                            0.033852                     0.000002   \n",
       "2                            0.033852                     0.000002   \n",
       "3                            0.033852                     0.000002   \n",
       "4                            0.033852                     0.000002   \n",
       "...                               ...                          ...   \n",
       "19910006                     0.033852                     0.000002   \n",
       "19910007                     0.033852                     0.000002   \n",
       "19910008                     0.033852                     0.000002   \n",
       "19910009                     0.033852                     0.000002   \n",
       "19910010                     0.033852                     0.000002   \n",
       "\n",
       "          Values[Dp_bar]  Values[k_AMPAR_phsophorylation]  \\\n",
       "0               0.693078                         0.012968   \n",
       "1               0.693078                         0.012968   \n",
       "2               0.693078                         0.012968   \n",
       "3               0.693078                         0.012968   \n",
       "4               0.693078                         0.012968   \n",
       "...                  ...                              ...   \n",
       "19910006        0.693078                         0.012968   \n",
       "19910007        0.693078                         0.012968   \n",
       "19910008        0.693078                         0.012968   \n",
       "19910009        0.693078                         0.012968   \n",
       "19910010        0.693078                         0.012968   \n",
       "\n",
       "          Values[k_AMPARp_dephosphorylation]  Values[PKA_bar]  \\\n",
       "0                                   0.060866             0.01   \n",
       "1                                   0.060866             0.01   \n",
       "2                                   0.060866             0.01   \n",
       "3                                   0.060866             0.01   \n",
       "4                                   0.060866             0.01   \n",
       "...                                      ...              ...   \n",
       "19910006                            0.060866             0.01   \n",
       "19910007                            0.060866             0.01   \n",
       "19910008                            0.060866             0.01   \n",
       "19910009                            0.060866             0.01   \n",
       "19910010                            0.060866             0.01   \n",
       "\n",
       "          Values[PP1a_bar]  Values[PP1a_total]  Values[PP2B_bar]  \\\n",
       "0                 0.199263        3.985260e-07          0.035107   \n",
       "1                 0.199263        3.985260e-07          0.035107   \n",
       "2                 0.199263        3.985260e-07          0.035107   \n",
       "3                 0.199263        3.985260e-07          0.035107   \n",
       "4                 0.199263        3.985260e-07          0.035107   \n",
       "...                    ...                 ...               ...   \n",
       "19910006          0.199263        3.985250e-07          0.035107   \n",
       "19910007          0.199263        3.985250e-07          0.035107   \n",
       "19910008          0.199263        3.985250e-07          0.035107   \n",
       "19910009          0.199263        3.985250e-07          0.035107   \n",
       "19910010          0.199263        3.985250e-07          0.035107   \n",
       "\n",
       "          Values[PP2B_bound_total]   [AMPAR]     [CaMKIIp]  [CaMKIIp_PP1a]  \\\n",
       "0                     2.106410e-07  0.000001  7.201090e-11    3.195290e-11   \n",
       "1                     2.106410e-07  0.000001  7.201090e-11    3.195290e-11   \n",
       "2                     2.106410e-07  0.000001  7.201090e-11    3.195290e-11   \n",
       "3                     2.106410e-07  0.000001  7.201090e-11    3.195290e-11   \n",
       "4                     2.106410e-07  0.000001  7.201090e-11    3.195290e-11   \n",
       "...                            ...       ...           ...             ...   \n",
       "19910006              2.106410e-07  0.000001  7.201130e-11    3.195300e-11   \n",
       "19910007              2.106410e-07  0.000001  7.201130e-11    3.195300e-11   \n",
       "19910008              2.106410e-07  0.000001  7.201130e-11    3.195300e-11   \n",
       "19910009              2.106410e-07  0.000001  7.201130e-11    3.195300e-11   \n",
       "19910010              2.106410e-07  0.000001  7.201130e-11    3.195300e-11   \n",
       "\n",
       "                  [Ca]          [Dp]  \n",
       "0         1.010100e-08  4.331010e-07  \n",
       "1         1.010100e-08  4.331010e-07  \n",
       "2         1.010100e-08  4.331010e-07  \n",
       "3         1.010100e-08  4.331010e-07  \n",
       "4         1.010100e-08  4.331010e-07  \n",
       "...                ...           ...  \n",
       "19910006  1.010100e-08  4.331030e-07  \n",
       "19910007  1.010100e-08  4.331030e-07  \n",
       "19910008  1.010100e-08  4.331030e-07  \n",
       "19910009  1.010100e-08  4.331030e-07  \n",
       "19910010  1.010100e-08  4.331030e-07  \n",
       "\n",
       "[19910011 rows x 18 columns]"
      ]
     },
     "execution_count": 13,
     "metadata": {},
     "output_type": "execute_result"
    }
   ],
   "source": [
    "#Downloads the data from COPASI, into a table\n",
    "df = pd.read_csv(folderpath, sep='\\s+', index_col = False)\n",
    "\n",
    "print(df.columns)\n",
    "\n",
    "df"
   ]
  },
  {
   "cell_type": "code",
   "execution_count": 14,
   "metadata": {
    "button": false,
    "collapsed": false,
    "deletable": true,
    "new_sheet": false,
    "run_control": {
     "read_only": false
    }
   },
   "outputs": [
    {
     "name": "stdout",
     "output_type": "stream",
     "text": [
      "1810.0\n",
      "0.00100000000009004\n"
     ]
    }
   ],
   "source": [
    "#Select given columns to analyse, in this case activated CaMKII, calcineurin and PP1\n",
    "#All values are normalized with respect to total amounts (bar value)\n",
    "CaMKII_active_ratio = df['Values[CaMKII_active_ratio]'] \n",
    "PP2B_active_ratio = df['Values[PP2B_bar]'] \n",
    "PP1_active_bar = df['Values[PP1a_bar]'] \n",
    "AMPA_bar = df[\"Values[AMPAR_bar]\"]\n",
    "time = df[\"Time\"]\n",
    "\n",
    "#Compute time constants\n",
    "simulation_t = time[df.shape[0]-1]-time[0]\n",
    "dt = time[1]-time[0]\n",
    "\n",
    "print(simulation_t)\n",
    "print(dt)"
   ]
  },
  {
   "cell_type": "code",
   "execution_count": 15,
   "metadata": {
    "button": false,
    "collapsed": true,
    "deletable": true,
    "new_sheet": false,
    "run_control": {
     "read_only": false
    }
   },
   "outputs": [],
   "source": [
    "#Only necessary to run for Figure 6\n",
    "\n",
    "#Given an array of values, it separates them by the intial value of the parameter in the scan\n",
    "def split_values(indices, values):\n",
    "    values_matrix = np.reshape(np.array(values), (indices.shape[0],indices[1]), order = \"C\") #creates an empty matrix to add the values of the split array   \n",
    "    return values_matrix"
   ]
  },
  {
   "cell_type": "code",
   "execution_count": 18,
   "metadata": {
    "button": false,
    "collapsed": false,
    "deletable": true,
    "new_sheet": false,
    "run_control": {
     "read_only": false
    }
   },
   "outputs": [
    {
     "data": {
      "image/png": "[encoded data removed]",
      "text/plain": [
       "<Figure size 432x288 with 1 Axes>"
      ]
     },
     "metadata": {
      "needs_background": "light"
     },
     "output_type": "display_data"
    }
   ],
   "source": [
    "#Only run for Figure 6\n",
    "\n",
    "#Figure 6A: computes the AMPAR phosphorylation ratio for a frequency scan \n",
    "\n",
    "df_AMPAR = split_values(indices_f, AMPA_bar)\n",
    "\n",
    "labels = np.round(unique_f, decimals =2)\n",
    "\n",
    "for i in range(indices_f.shape[0]):\n",
    "    x = np.linspace(0, simulation_time, num = 2+simulation_time/dt)\n",
    "    plt.plot(x, df_AMPAR[i],label=str(labels[i])+\"Hz\")\n",
    "    \n",
    "\n",
    "plt.xlabel('time(s)')\n",
    "plt.ylabel('AMPARp_ratio')\n",
    "plt.legend(loc='upper left', bbox_to_anchor=(0.22, 1), shadow=True, ncol=3)\n",
    "plt.show()\n"
   ]
  },
  {
   "cell_type": "code",
   "execution_count": 17,
   "metadata": {
    "button": false,
    "collapsed": false,
    "deletable": true,
    "new_sheet": false,
    "run_control": {
     "read_only": false
    }
   },
   "outputs": [
    {
     "data": {
      "image/png": "[encoded data removed]",
      "text/plain": [
       "<Figure size 432x288 with 1 Axes>"
      ]
     },
     "metadata": {
      "needs_background": "light"
     },
     "output_type": "display_data"
    }
   ],
   "source": [
    "#Only run for Figure 6\n",
    "\n",
    "#Figure 6B: computes CaMKIIa ratio for a frequency scan\n",
    "\n",
    "df_CaMKII = split_values(indices_f, CaMKII_active_ratio)\n",
    "\n",
    "labels = np.round(unique_f, decimals =2)\n",
    "\n",
    "for i in range(indices_f.shape[0]):\n",
    "    x = np.linspace(0, simulation_time, num = 2+simulation_time/dt)\n",
    "    plt.plot(x, df_CaMKII[i])\n",
    "    \n",
    "\n",
    "plt.xlabel('time(s)')\n",
    "plt.ylabel('CaMKII_active_ratio')\n",
    "plt.show()\n"
   ]
  },
  {
   "cell_type": "code",
   "execution_count": 10,
   "metadata": {
    "button": false,
    "collapsed": false,
    "deletable": true,
    "new_sheet": false,
    "run_control": {
     "read_only": false
    }
   },
   "outputs": [
    {
     "data": {
      "image/png": "[encoded data removed]",
      "text/plain": [
       "<Figure size 432x288 with 1 Axes>"
      ]
     },
     "metadata": {
      "needs_background": "light"
     },
     "output_type": "display_data"
    }
   ],
   "source": [
    "#Only run for Figure 7\n",
    "\n",
    "#Figure 7 A-D: Plots AMPAR phosphorylation as a function of time for different LTP/LTD induction protocols\n",
    "\n",
    "\n",
    "x = np.linspace(0, simulation_t, num = 2+simulation_t/dt)\n",
    "plt.plot(x, AMPA_bar,\"-r\")\n",
    "plt.xlabel('time(s)')\n",
    "plt.ylabel('AMPARp_ratio')\n",
    "plt.grid()\n",
    "plt.margins(x=0)\n",
    "plt.show()\n"
   ]
  },
  {
   "cell_type": "code",
   "execution_count": null,
   "metadata": {
    "button": false,
    "collapsed": true,
    "deletable": true,
    "new_sheet": false,
    "run_control": {
     "read_only": false
    }
   },
   "outputs": [],
   "source": []
  }
 ],
 "metadata": {
  "kernelspec": {
   "display_name": "Python 3",
   "language": "python",
   "name": "python3"
  },
  "language_info": {
   "codemirror_mode": {
    "name": "ipython",
    "version": 2
   },
   "file_extension": ".py",
   "mimetype": "text/x-python",
   "name": "python",
   "nbconvert_exporter": "python",
   "pygments_lexer": "ipython2",
   "version": "2.7.10"
  }
 },
 "nbformat": 4,
 "nbformat_minor": 2
}
